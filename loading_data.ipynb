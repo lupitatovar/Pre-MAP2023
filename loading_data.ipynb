{
 "cells": [
  {
   "cell_type": "code",
   "execution_count": 1,
   "id": "32cb49cf",
   "metadata": {},
   "outputs": [
    {
     "name": "stderr",
     "output_type": "stream",
     "text": [
      "/Users/lupitatovar/anaconda3/lib/python3.10/site-packages/lightkurve/config/__init__.py:119: UserWarning: The default Lightkurve cache directory, used by download(), etc., has been moved to /Users/lupitatovar/.lightkurve/cache. Please move all the files in the legacy directory /Users/lupitatovar/.lightkurve-cache to the new location and remove the legacy directory. Refer to https://docs.lightkurve.org/reference/config.html#default-cache-directory-migration for more information.\n",
      "  warnings.warn(\n"
     ]
    }
   ],
   "source": [
    "%matplotlib inline\n",
    "import numpy as np\n",
    "import matplotlib.pyplot as plt\n",
    "import pandas as pd\n",
    "from scipy import *\n",
    "import astropy\n",
    "from astropy import constants as ac\n",
    "import lightkurve"
   ]
  },
  {
   "cell_type": "markdown",
   "id": "95c7fc81-f59a-4328-85c1-20212fda0746",
   "metadata": {},
   "source": [
    "Columns (20 days of data Sept/Oct 2016)\n",
    "\n",
    "Time(BJD_TDB-2450000)\n",
    "\n",
    "flux err_\n",
    "\n",
    "flux position_x \n",
    "\n",
    "position_y \n",
    "\n",
    "fwhm \n",
    "\n",
    "fwhm_x \n",
    "\n",
    "fwhm_y \n",
    "\n",
    "background \n",
    "\n",
    "texp"
   ]
  },
  {
   "cell_type": "code",
   "execution_count": 2,
   "id": "e6bafe0b",
   "metadata": {},
   "outputs": [
    {
     "data": {
      "text/html": [
       "<div>\n",
       "<style scoped>\n",
       "    .dataframe tbody tr th:only-of-type {\n",
       "        vertical-align: middle;\n",
       "    }\n",
       "\n",
       "    .dataframe tbody tr th {\n",
       "        vertical-align: top;\n",
       "    }\n",
       "\n",
       "    .dataframe thead th {\n",
       "        text-align: right;\n",
       "    }\n",
       "</style>\n",
       "<table border=\"1\" class=\"dataframe\">\n",
       "  <thead>\n",
       "    <tr style=\"text-align: right;\">\n",
       "      <th></th>\n",
       "      <th>Unnamed: 0</th>\n",
       "      <th>Time</th>\n",
       "      <th>Flux</th>\n",
       "      <th>fluxerr</th>\n",
       "      <th>x_pos</th>\n",
       "      <th>y_pos</th>\n",
       "      <th>fwhm</th>\n",
       "      <th>fwhm_x</th>\n",
       "      <th>fwhm_y</th>\n",
       "      <th>bkgd</th>\n",
       "      <th>na</th>\n",
       "      <th>texp</th>\n",
       "    </tr>\n",
       "  </thead>\n",
       "  <tbody>\n",
       "    <tr>\n",
       "      <th>0</th>\n",
       "      <td>0</td>\n",
       "      <td>7440.290155</td>\n",
       "      <td>0.995960</td>\n",
       "      <td>0.000830</td>\n",
       "      <td>16.037032</td>\n",
       "      <td>16.096065</td>\n",
       "      <td>1.1306</td>\n",
       "      <td>1.280963</td>\n",
       "      <td>1.297885</td>\n",
       "      <td>7.681587</td>\n",
       "      <td>1.0</td>\n",
       "      <td>1.92</td>\n",
       "    </tr>\n",
       "    <tr>\n",
       "      <th>1</th>\n",
       "      <td>1</td>\n",
       "      <td>7440.291640</td>\n",
       "      <td>0.995621</td>\n",
       "      <td>0.000761</td>\n",
       "      <td>16.051365</td>\n",
       "      <td>16.136889</td>\n",
       "      <td>1.1443</td>\n",
       "      <td>1.280474</td>\n",
       "      <td>1.359159</td>\n",
       "      <td>6.559925</td>\n",
       "      <td>1.0</td>\n",
       "      <td>1.92</td>\n",
       "    </tr>\n",
       "    <tr>\n",
       "      <th>2</th>\n",
       "      <td>2</td>\n",
       "      <td>7440.293139</td>\n",
       "      <td>0.993556</td>\n",
       "      <td>0.000879</td>\n",
       "      <td>16.047302</td>\n",
       "      <td>16.121444</td>\n",
       "      <td>1.1385</td>\n",
       "      <td>1.280257</td>\n",
       "      <td>1.330890</td>\n",
       "      <td>6.029081</td>\n",
       "      <td>1.0</td>\n",
       "      <td>1.92</td>\n",
       "    </tr>\n",
       "    <tr>\n",
       "      <th>3</th>\n",
       "      <td>3</td>\n",
       "      <td>7440.294645</td>\n",
       "      <td>0.994836</td>\n",
       "      <td>0.000820</td>\n",
       "      <td>16.061065</td>\n",
       "      <td>16.109097</td>\n",
       "      <td>1.1332</td>\n",
       "      <td>1.268556</td>\n",
       "      <td>1.312878</td>\n",
       "      <td>6.284184</td>\n",
       "      <td>1.0</td>\n",
       "      <td>1.92</td>\n",
       "    </tr>\n",
       "    <tr>\n",
       "      <th>4</th>\n",
       "      <td>4</td>\n",
       "      <td>7440.296133</td>\n",
       "      <td>0.995061</td>\n",
       "      <td>0.000961</td>\n",
       "      <td>16.062635</td>\n",
       "      <td>16.104222</td>\n",
       "      <td>1.1279</td>\n",
       "      <td>1.263904</td>\n",
       "      <td>1.304400</td>\n",
       "      <td>7.433231</td>\n",
       "      <td>1.0</td>\n",
       "      <td>1.92</td>\n",
       "    </tr>\n",
       "    <tr>\n",
       "      <th>...</th>\n",
       "      <td>...</td>\n",
       "      <td>...</td>\n",
       "      <td>...</td>\n",
       "      <td>...</td>\n",
       "      <td>...</td>\n",
       "      <td>...</td>\n",
       "      <td>...</td>\n",
       "      <td>...</td>\n",
       "      <td>...</td>\n",
       "      <td>...</td>\n",
       "      <td>...</td>\n",
       "      <td>...</td>\n",
       "    </tr>\n",
       "    <tr>\n",
       "      <th>29298</th>\n",
       "      <td>183</td>\n",
       "      <td>8777.283721</td>\n",
       "      <td>0.999813</td>\n",
       "      <td>0.000883</td>\n",
       "      <td>15.900778</td>\n",
       "      <td>16.060333</td>\n",
       "      <td>1.2310</td>\n",
       "      <td>1.405451</td>\n",
       "      <td>1.342257</td>\n",
       "      <td>10.230150</td>\n",
       "      <td>1.0</td>\n",
       "      <td>1.92</td>\n",
       "    </tr>\n",
       "    <tr>\n",
       "      <th>29299</th>\n",
       "      <td>184</td>\n",
       "      <td>8777.285217</td>\n",
       "      <td>0.999738</td>\n",
       "      <td>0.000947</td>\n",
       "      <td>15.904952</td>\n",
       "      <td>16.058968</td>\n",
       "      <td>1.1560</td>\n",
       "      <td>1.398691</td>\n",
       "      <td>1.339653</td>\n",
       "      <td>10.923340</td>\n",
       "      <td>1.0</td>\n",
       "      <td>1.92</td>\n",
       "    </tr>\n",
       "    <tr>\n",
       "      <th>29300</th>\n",
       "      <td>185</td>\n",
       "      <td>8777.286715</td>\n",
       "      <td>1.000731</td>\n",
       "      <td>0.000782</td>\n",
       "      <td>15.900381</td>\n",
       "      <td>16.053000</td>\n",
       "      <td>1.2100</td>\n",
       "      <td>1.407723</td>\n",
       "      <td>1.333829</td>\n",
       "      <td>10.201580</td>\n",
       "      <td>1.0</td>\n",
       "      <td>1.92</td>\n",
       "    </tr>\n",
       "    <tr>\n",
       "      <th>29301</th>\n",
       "      <td>186</td>\n",
       "      <td>8777.288213</td>\n",
       "      <td>1.001476</td>\n",
       "      <td>0.000814</td>\n",
       "      <td>15.910476</td>\n",
       "      <td>16.050619</td>\n",
       "      <td>1.1880</td>\n",
       "      <td>1.391920</td>\n",
       "      <td>1.327574</td>\n",
       "      <td>10.311040</td>\n",
       "      <td>1.0</td>\n",
       "      <td>1.92</td>\n",
       "    </tr>\n",
       "    <tr>\n",
       "      <th>29302</th>\n",
       "      <td>187</td>\n",
       "      <td>8777.289710</td>\n",
       "      <td>1.001012</td>\n",
       "      <td>0.000845</td>\n",
       "      <td>15.922429</td>\n",
       "      <td>16.043762</td>\n",
       "      <td>1.1950</td>\n",
       "      <td>1.368207</td>\n",
       "      <td>1.317162</td>\n",
       "      <td>9.079386</td>\n",
       "      <td>1.0</td>\n",
       "      <td>1.92</td>\n",
       "    </tr>\n",
       "  </tbody>\n",
       "</table>\n",
       "<p>29303 rows × 12 columns</p>\n",
       "</div>"
      ],
      "text/plain": [
       "       Unnamed: 0         Time      Flux   fluxerr      x_pos      y_pos  \\\n",
       "0               0  7440.290155  0.995960  0.000830  16.037032  16.096065   \n",
       "1               1  7440.291640  0.995621  0.000761  16.051365  16.136889   \n",
       "2               2  7440.293139  0.993556  0.000879  16.047302  16.121444   \n",
       "3               3  7440.294645  0.994836  0.000820  16.061065  16.109097   \n",
       "4               4  7440.296133  0.995061  0.000961  16.062635  16.104222   \n",
       "...           ...          ...       ...       ...        ...        ...   \n",
       "29298         183  8777.283721  0.999813  0.000883  15.900778  16.060333   \n",
       "29299         184  8777.285217  0.999738  0.000947  15.904952  16.058968   \n",
       "29300         185  8777.286715  1.000731  0.000782  15.900381  16.053000   \n",
       "29301         186  8777.288213  1.001476  0.000814  15.910476  16.050619   \n",
       "29302         187  8777.289710  1.001012  0.000845  15.922429  16.043762   \n",
       "\n",
       "         fwhm    fwhm_x    fwhm_y       bkgd   na  texp  \n",
       "0      1.1306  1.280963  1.297885   7.681587  1.0  1.92  \n",
       "1      1.1443  1.280474  1.359159   6.559925  1.0  1.92  \n",
       "2      1.1385  1.280257  1.330890   6.029081  1.0  1.92  \n",
       "3      1.1332  1.268556  1.312878   6.284184  1.0  1.92  \n",
       "4      1.1279  1.263904  1.304400   7.433231  1.0  1.92  \n",
       "...       ...       ...       ...        ...  ...   ...  \n",
       "29298  1.2310  1.405451  1.342257  10.230150  1.0  1.92  \n",
       "29299  1.1560  1.398691  1.339653  10.923340  1.0  1.92  \n",
       "29300  1.2100  1.407723  1.333829  10.201580  1.0  1.92  \n",
       "29301  1.1880  1.391920  1.327574  10.311040  1.0  1.92  \n",
       "29302  1.1950  1.368207  1.317162   9.079386  1.0  1.92  \n",
       "\n",
       "[29303 rows x 12 columns]"
      ]
     },
     "execution_count": 2,
     "metadata": {},
     "output_type": "execute_result"
    }
   ],
   "source": [
    "spitzerlc = pd.read_csv('spitzer_lc.csv')\n",
    "spitzerlc\n",
    "#plt.scatter(spitzerlc.Time.values,spitzerlc.Flux.values)"
   ]
  },
  {
   "cell_type": "code",
   "execution_count": null,
   "id": "57fd7edf-f663-4819-8f69-bb953a8e48d1",
   "metadata": {},
   "outputs": [],
   "source": []
  },
  {
   "cell_type": "markdown",
   "id": "4b1bcba9-0c27-42d1-8b89-1141527be301",
   "metadata": {},
   "source": [
    "Combining all of the files into one"
   ]
  },
  {
   "cell_type": "code",
   "execution_count": null,
   "id": "ecd699e7",
   "metadata": {},
   "outputs": [],
   "source": [
    "import glob"
   ]
  },
  {
   "cell_type": "code",
   "execution_count": null,
   "id": "11a46715",
   "metadata": {
    "scrolled": true
   },
   "outputs": [],
   "source": [
    "lc_files = glob.glob('flares_spitzer'+\"/*.txt\")\n",
    "\n",
    "for k in range(len(lc_files)): \n",
    "    df_tmp = pd.read_csv(lc_files[k], delim_whitespace=True, names=['Time','Flux','fluxerr','x_pos','y_pos','fwhm','fwhm_x','fwhm_y','bkgd','na','texp']) \n",
    "    print(k, df_tmp.shape) \n",
    "    if k==0: \n",
    "        df = df_tmp \n",
    "    else: \n",
    "         df = df.append(df_tmp) \n",
    "\n",
    "df = df.sort_values(by='Time')\n"
   ]
  },
  {
   "cell_type": "code",
   "execution_count": null,
   "id": "a066c6f5-65c9-4975-96ef-c6b8a41a2c7c",
   "metadata": {},
   "outputs": [],
   "source": [
    "df"
   ]
  },
  {
   "cell_type": "code",
   "execution_count": null,
   "id": "fd3f877e-19fc-48c3-bd1e-a38da8e6af74",
   "metadata": {},
   "outputs": [],
   "source": [
    "print(df['Time'].values)"
   ]
  },
  {
   "cell_type": "code",
   "execution_count": null,
   "id": "4a3697dd-d206-4463-8ddc-53c5273f75f0",
   "metadata": {},
   "outputs": [],
   "source": [
    "df['Flux'].values"
   ]
  },
  {
   "cell_type": "code",
   "execution_count": null,
   "id": "61272e30-059e-4e65-b8aa-732c6ae30dff",
   "metadata": {},
   "outputs": [],
   "source": [
    "#save df to csv\n",
    "#df.to_csv('spitzer_lc.csv')"
   ]
  },
  {
   "cell_type": "code",
   "execution_count": null,
   "id": "90990a62-09c5-49d9-bc56-05d257b19a1b",
   "metadata": {},
   "outputs": [],
   "source": []
  },
  {
   "cell_type": "code",
   "execution_count": null,
   "id": "58f0d54f-1e8d-4702-8ba2-f45f40632e87",
   "metadata": {},
   "outputs": [],
   "source": []
  },
  {
   "cell_type": "code",
   "execution_count": null,
   "id": "3be2a8da-dd74-43cb-915b-930615c2cc6a",
   "metadata": {},
   "outputs": [],
   "source": [
    "plt.figure(figsize=(10,5))\n",
    "plt.plot(df['Time'].values,df['Flux'],marker='o')\n",
    "#plt.scatter(df['Time'].values,df['x_pos']-np.median(df['x_pos'].values),marker='o',color='C2')\n",
    "#plt.scatter(df['Time'].values,df['y_pos']-np.median(df['y_pos'].values),marker='o',color='C1')\n",
    "plt.xlim(7653,7655)"
   ]
  },
  {
   "cell_type": "code",
   "execution_count": null,
   "id": "602b4351-124b-4996-a20f-cff67cf798fd",
   "metadata": {},
   "outputs": [],
   "source": [
    "#%matplotlib inline"
   ]
  },
  {
   "cell_type": "code",
   "execution_count": null,
   "id": "2fa689c9-b84d-4148-b936-748a61327e54",
   "metadata": {},
   "outputs": [],
   "source": [
    "df['Flux'].values"
   ]
  },
  {
   "cell_type": "code",
   "execution_count": null,
   "id": "c8ca0c0e",
   "metadata": {},
   "outputs": [],
   "source": [
    "plt.figure(figsize=(10,5))\n",
    "plt.plot(df['Time'].values,df['Flux'].values,lw=0.5,marker='.')\n",
    "plt.xlabel('Time [BJD_TDB-2450000]',fontsize=14)\n",
    "plt.ylabel('Relative Flux',fontsize=14)\n",
    "plt.minorticks_on()\n",
    "plt.title('TRAPPIST-1 Spitzer Data',fontsize=14)"
   ]
  },
  {
   "cell_type": "markdown",
   "id": "e993a4a2-fcc3-4349-a7fc-a1a828805144",
   "metadata": {},
   "source": [
    "Transforming Time units to calendar days"
   ]
  },
  {
   "cell_type": "code",
   "execution_count": null,
   "id": "c310a239-690b-4df6-83ba-090ef8fe1281",
   "metadata": {},
   "outputs": [],
   "source": [
    "#convert to JD\n",
    "jd = df['Time'].values + 2450000\n",
    "jd"
   ]
  },
  {
   "cell_type": "code",
   "execution_count": null,
   "id": "0a2a756b-18a0-4d91-be3f-4f9bf4333458",
   "metadata": {},
   "outputs": [],
   "source": [
    "from astropy.time import Time\n",
    "# Convert to astropy Time object + 2450000\n",
    "t = Time(jd, format='jd')\n",
    "\n",
    "# Convert to datetime\n",
    "utc = t.to_datetime()"
   ]
  },
  {
   "cell_type": "code",
   "execution_count": null,
   "id": "78420d6c-21af-400c-817f-84baf9659b95",
   "metadata": {},
   "outputs": [],
   "source": [
    "utc"
   ]
  },
  {
   "cell_type": "code",
   "execution_count": null,
   "id": "72b0a6fc-cf03-4544-bb67-936b1b97ceef",
   "metadata": {},
   "outputs": [],
   "source": [
    "plt.figure(figsize=(14,5))\n",
    "plt.plot(utc,df['Flux'].values,lw=0.5,marker='.')\n",
    "plt.xlabel('Time [utc]')\n",
    "plt.ylabel('Relative Flux')"
   ]
  },
  {
   "cell_type": "code",
   "execution_count": null,
   "id": "282524b4-d5d2-41b0-bf84-17eb99e26f3d",
   "metadata": {},
   "outputs": [],
   "source": [
    "#%matplotlib widget"
   ]
  },
  {
   "cell_type": "code",
   "execution_count": null,
   "id": "356d553a-9dd1-4de9-82a7-4b8f1f4d4894",
   "metadata": {},
   "outputs": [],
   "source": [
    "#%matplotlib notebook\n",
    "plt.figure(figsize=(10,5))\n",
    "plt.scatter(utc,df['Flux'].values,s=0.5)\n",
    "plt.xlabel('Time [utc]')\n",
    "plt.ylabel('Relative Flux')"
   ]
  },
  {
   "cell_type": "code",
   "execution_count": null,
   "id": "54e1f6c4-4ae1-4505-9020-64124cadf588",
   "metadata": {},
   "outputs": [],
   "source": [
    "#%matplotlib notebook\n",
    "plt.figure(figsize=(10,5))\n",
    "plt.plot(df['Time'].values,df['Flux'].values,lw=0.5,marker='.')\n",
    "plt.xlabel('Time [BJD_TDB-2450000]',fontsize=14)\n",
    "plt.ylabel('Relative Flux',fontsize=14)\n",
    "plt.minorticks_on()\n",
    "plt.title('TRAPPIST-1 Spitzer Data',fontsize=14)\n",
    "#plt.show()"
   ]
  },
  {
   "cell_type": "code",
   "execution_count": null,
   "id": "aba8f01d-2e26-4653-ba76-7a4bea07200b",
   "metadata": {},
   "outputs": [],
   "source": [
    "#%matplotlib inline\n",
    "plt.plot(df['Time'].values,df['Flux'].values,lw=0.5,marker='.')\n",
    "plt.xlabel('Time [BJD_TDB-2450000]',fontsize=14)\n",
    "plt.ylabel('Relative Flux',fontsize=14)\n",
    "plt.minorticks_on()\n",
    "plt.title('TRAPPIST-1 Spitzer Data',fontsize=14)\n",
    "plt.xlim(9178.75,8178.95)\n",
    "plt.ylim(.991,1.007)"
   ]
  },
  {
   "cell_type": "code",
   "execution_count": null,
   "id": "838b1502-f499-4fda-abcf-e39597d96db1",
   "metadata": {},
   "outputs": [],
   "source": [
    "#%matplotlib notebook\n",
    "plt.figure(figsize=(10,5))\n",
    "plt.plot(df['Time'].values,df['Flux'].values,lw=0.5,marker='.')\n",
    "plt.xlabel('Time [BJD_TDB-2450000]',fontsize=14)\n",
    "plt.ylabel('Relative Flux',fontsize=14)\n",
    "plt.minorticks_on()\n",
    "#plt.xlim(7650,7675)\n",
    "plt.title('TRAPPIST-1 Spitzer Data',fontsize=14)"
   ]
  },
  {
   "cell_type": "markdown",
   "id": "52f499fa-81fd-4629-b477-177f5cb95018",
   "metadata": {},
   "source": [
    "### Finding the flares\n",
    "The first 4 are from Davenport 2019"
   ]
  },
  {
   "cell_type": "code",
   "execution_count": null,
   "id": "545de848-0bf8-4bdb-922e-a1b8f5c1164a",
   "metadata": {},
   "outputs": [],
   "source": [
    "plt.errorbar(df['Time'] - 7655.9, df['Flux'], df['fluxerr'], c='FireBrick');\n",
    "plt.xlim(0,0.1);\n",
    "plt.ylim(.995,1.02);\n",
    "plt.xlabel('BJD(TDB)-2450000 - 7655.9');\n",
    "plt.ylabel('Relative Flux');\n",
    "#plt.savefig('trappist1_flare1.png', dpi=150, bbox_inches='tight', pad_inches=0.25)"
   ]
  },
  {
   "cell_type": "code",
   "execution_count": null,
   "id": "6910ac9b-942a-4b41-9014-d0cf0d5babd8",
   "metadata": {},
   "outputs": [],
   "source": [
    "plt.errorbar(df['Time'] - 7659.3, df['Flux'], df['fluxerr'], c='FireBrick');\n",
    "plt.xlim(0,0.2);\n",
    "plt.ylim(.99,1.02);\n",
    "plt.xlabel('BJD(TDB)-2450000 - 7659.3');\n",
    "plt.ylabel('Relative Flux');"
   ]
  },
  {
   "cell_type": "code",
   "execution_count": null,
   "id": "db5324c3-14c1-43b3-bb51-d2d6ec6bdf41",
   "metadata": {},
   "outputs": [],
   "source": [
    "plt.figure(figsize=(7,5))\n",
    "plt.errorbar(df['Time']-7667, df['Flux']-1, df['fluxerr'], c='FireBrick', marker='o', lw=0.5);\n",
    "plt.xlim(0.1,.25);\n",
    "plt.ylim(-.004,.02);\n",
    "plt.xlabel('BJD - 2457667 (days)');\n",
    "plt.ylabel('Relative Flux');"
   ]
  },
  {
   "cell_type": "code",
   "execution_count": null,
   "id": "0fb580e5-9d21-41ac-af53-753cc8b49ab7",
   "metadata": {},
   "outputs": [],
   "source": [
    "# A 4th little flare\n",
    "plt.errorbar(df['Time']-7671, df['Flux'], df['fluxerr'], marker='.', linestyle='none', c='FireBrick');\n",
    "plt.xlim(.1,.3);\n",
    "plt.ylim(.995,1.03);\n",
    "plt.xlabel('BJD(TDB)-2450000 - 7671');\n",
    "plt.ylabel('Relative Flux');"
   ]
  },
  {
   "cell_type": "code",
   "execution_count": null,
   "id": "a80b3b55-b69c-4cf3-a924-f3069afcfc3e",
   "metadata": {},
   "outputs": [],
   "source": []
  },
  {
   "cell_type": "markdown",
   "id": "0034624b-e0cd-4b4b-900d-e57b5852cc92",
   "metadata": {},
   "source": [
    "Loading in the flare data"
   ]
  },
  {
   "cell_type": "code",
   "execution_count": null,
   "id": "9bb8f40f-18b1-43b0-bfcd-56ec5865569a",
   "metadata": {},
   "outputs": [],
   "source": [
    "df['Time'].values"
   ]
  },
  {
   "cell_type": "code",
   "execution_count": null,
   "id": "711a7758-e655-4368-8517-0be5d2200837",
   "metadata": {},
   "outputs": [],
   "source": [
    "exptime = np.median(df['Time'].values[1:] - df['Time'].values[0:-1])\n",
    "print(exptime)\n",
    "# totdur = len(df) * exptime\n",
    "totdur = np.nanmax(df['Time'].values) - np.nanmin(df['Time'].values)\n",
    "print(totdur)"
   ]
  },
  {
   "cell_type": "code",
   "execution_count": null,
   "id": "15efe916-9e61-4f8e-9a02-0a68d316c20c",
   "metadata": {},
   "outputs": [],
   "source": [
    "totdur1 = totdur + 2450000\n",
    "tot_dur_jd = Time(totdur1, format='jd')\n",
    "print(tot_dur_jd)\n",
    "# Convert to datetime\n",
    "totdur_utc = tot_dur_jd.to()\n",
    "#print(totdur_utc)"
   ]
  },
  {
   "cell_type": "code",
   "execution_count": null,
   "id": "4cc22160-c1df-48df-ae2c-a6ee4aff8089",
   "metadata": {},
   "outputs": [],
   "source": []
  }
 ],
 "metadata": {
  "kernelspec": {
   "display_name": "Python3",
   "language": "python",
   "name": "python3"
  },
  "language_info": {
   "codemirror_mode": {
    "name": "ipython",
    "version": 3
   },
   "file_extension": ".py",
   "mimetype": "text/x-python",
   "name": "python",
   "nbconvert_exporter": "python",
   "pygments_lexer": "ipython3",
   "version": "3.10.8"
  }
 },
 "nbformat": 4,
 "nbformat_minor": 5
}
